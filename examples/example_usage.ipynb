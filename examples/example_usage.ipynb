{
 "cells": [
  {
   "cell_type": "code",
   "execution_count": 2,
   "outputs": [],
   "source": [
    "%load_ext autoreload\n",
    "%autoreload 2"
   ],
   "metadata": {
    "collapsed": false,
    "pycharm": {
     "name": "#%%\n",
     "is_executing": false
    }
   }
  },
  {
   "cell_type": "code",
   "execution_count": 3,
   "metadata": {
    "pycharm": {
     "is_executing": false
    }
   },
   "outputs": [
    {
     "name": "stdout",
     "text": [
      "hello\n/Users/marcel/Documents/github/correlation/notebooks\n"
     ],
     "output_type": "stream"
    },
    {
     "name": "stderr",
     "text": [
      "/Users/marcel/.conda/envs/correlation-ranking/lib/python3.7/site-packages/cognite/client/_cognite_client.py:57: UserWarning: You are using version 1.0.0a33 of the SDK, however version 1.0.0a35 is available. Upgrade or set the environment variable 'COGNITE_DISABLE_PYPI_VERSION_CHECK' to suppress this warning.\n  debug=debug,\n/Users/marcel/.conda/envs/correlation-ranking/lib/python3.7/site-packages/ipykernel_launcher.py:12: UserWarning: Authenticated towards inferred project 'akerbp'. Pass project to the CogniteClient constructor or set the environment variable 'COGNITE_PROJECT' to suppress this warning.\n  if sys.path[0] == '':\n"
     ],
     "output_type": "stream"
    }
   ],
   "source": [
    "print('hello')\n",
    "import sys, os\n",
    "from datetime import datetime\n",
    "print(os.getcwd())\n",
    "sys.path.append('../')\n",
    "from cognite.correlation.correlation import columns_by_max_cross_correlation\n",
    "from cognite.client import CogniteClient\n",
    "import pandas as pd\n",
    "import numpy as np\n",
    "\n",
    "client = CogniteClient(client_name='test-corr')\n",
    "tags = pd.read_csv('val_11_pt_tags.csv', delimiter=';')\n"
   ]
  },
  {
   "cell_type": "code",
   "execution_count": 4,
   "outputs": [
    {
     "data": {
      "text/plain": "\"\\ntags['id'] = np.full(tags.shape[0], np.NaN, dtype=int)\\nprint(tags.head())\\nfor i, tag in enumerate(tags['CDF_TAG']):\\n    results = client.time_series.search(tag).to_pandas()\\n    for j in range(results.shape[0]):\\n        if results['name'][j] == tag:\\n            tags['id'][i] = results['id'][j]\\n            break\\nprint(tags)\\ntags.to_csv('with_id.csv')\\n\""
     },
     "metadata": {},
     "output_type": "execute_result",
     "execution_count": 4
    }
   ],
   "source": [
    "# Write id to CSV\n",
    "\"\"\"\n",
    "tags['id'] = np.full(tags.shape[0], np.NaN, dtype=int)\n",
    "print(tags.head())\n",
    "for i, tag in enumerate(tags['CDF_TAG']):\n",
    "    results = client.time_series.search(tag).to_pandas()\n",
    "    for j in range(results.shape[0]):\n",
    "        if results['name'][j] == tag:\n",
    "            tags['id'][i] = results['id'][j]\n",
    "            break\n",
    "print(tags)\n",
    "tags.to_csv('with_id.csv')\n",
    "\"\"\""
   ],
   "metadata": {
    "collapsed": false,
    "pycharm": {
     "name": "#%%\n",
     "is_executing": false
    }
   }
  },
  {
   "cell_type": "code",
   "execution_count": 8,
   "outputs": [
    {
     "name": "stdout",
     "text": [
      "               Tag                      CDF_TAG                 CDF_TAG_Nabo  \\\n0    11-PIC-92205C  VAL_11-PIC-92205C:Z.X.Value   VAL_11-PT-92207:Z.X1.Value   \n1      11-PT-92002      VAL_11-PT-92002:X.Value   VAL_11-PT-92006:Z.X1.Value   \n2   11-PT-92006-01   VAL_11-PT-92006:Z.X1.Value      VAL_11-PT-92002:X.Value   \n3   11-PT-92006-02   VAL_11-PT-92006:Z.X2.Value      VAL_11-PT-92002:X.Value   \n4      11-PT-92012      VAL_11-PT-92012:X.Value   VAL_11-PT-92016:Z.X1.Value   \n5   11-PT-92016-01   VAL_11-PT-92016:Z.X1.Value      VAL_11-PT-92012:X.Value   \n6   11-PT-92016-02   VAL_11-PT-92016:Z.X2.Value      VAL_11-PT-92012:X.Value   \n7     11-PT-92104A     VAL_11-PT-92104A:X.Value     VAL_11-PT-92104B:X.Value   \n8     11-PT-92104B     VAL_11-PT-92104B:X.Value     VAL_11-PT-92104A:X.Value   \n9      11-PT-92117      VAL_11-PT-92117:X.Value      VAL_11-PT-92118:X.Value   \n10     11-PT-92118      VAL_11-PT-92118:X.Value      VAL_11-PT-92117:X.Value   \n11     11-PT-92123      VAL_11-PT-92123:X.Value      VAL_11-PT-92126:X.Value   \n12     11-PT-92126      VAL_11-PT-92126:X.Value      VAL_11-PT-92123:X.Value   \n13     11-PT-92130      VAL_11-PT-92130:X.Value                          NaN   \n14  11-PT-92207-01   VAL_11-PT-92207:Z.X1.Value  VAL_11-PIC-92205C:Z.X.Value   \n15  11-PT-92207-02   VAL_11-PT-92207:Z.X2.Value  VAL_11-PIC-92205C:Z.X.Value   \n\n     LL  HH  \n0     1   8  \n1   2,5  37  \n2   2,5  37  \n3   2,5  37  \n4   2,5  37  \n5   2,5  37  \n6   2,5  37  \n7     1   8  \n8     1   8  \n9     1   8  \n10    1   8  \n11    1   8  \n12    1   8  \n13    1   8  \n14    1   8  \n15    1   8  \n"
     ],
     "output_type": "stream"
    }
   ],
   "source": [
    "print(tags)\n"
   ],
   "metadata": {
    "collapsed": false,
    "pycharm": {
     "name": "#%%\n",
     "is_executing": false
    }
   }
  },
  {
   "cell_type": "code",
   "execution_count": 5,
   "outputs": [
    {
     "name": "stdout",
     "text": [
      "                     VAL_11-PIC-92205C:Z.X.Value|interpolation  \\\n2018-12-11 12:00:00                                   3.277639   \n2018-12-11 12:00:01                                   3.294377   \n2018-12-11 12:00:02                                   3.316281   \n2018-12-11 12:00:03                                   3.338032   \n2018-12-11 12:00:04                                   3.358149   \n\n                     VAL_11-PT-92002:X.Value|interpolation  \\\n2018-12-11 12:00:00                               6.817725   \n2018-12-11 12:00:01                               6.804748   \n2018-12-11 12:00:02                               6.778794   \n2018-12-11 12:00:03                                    NaN   \n2018-12-11 12:00:04                                    NaN   \n\n                     VAL_11-PT-92006:Z.X1.Value|interpolation  \\\n2018-12-11 12:00:00                                  6.743954   \n2018-12-11 12:00:01                                       NaN   \n2018-12-11 12:00:02                                       NaN   \n2018-12-11 12:00:03                                  6.691063   \n2018-12-11 12:00:04                                       NaN   \n\n                     VAL_11-PT-92006:Z.X2.Value|interpolation  \\\n2018-12-11 12:00:00                                  6.691311   \n2018-12-11 12:00:01                                       NaN   \n2018-12-11 12:00:02                                       NaN   \n2018-12-11 12:00:03                                       NaN   \n2018-12-11 12:00:04                                       NaN   \n\n                     VAL_11-PT-92012:X.Value|interpolation  \\\n2018-12-11 12:00:00                                    NaN   \n2018-12-11 12:00:01                                    NaN   \n2018-12-11 12:00:02                                    NaN   \n2018-12-11 12:00:03                                    NaN   \n2018-12-11 12:00:04                                    NaN   \n\n                     VAL_11-PT-92016:Z.X1.Value|interpolation  \\\n2018-12-11 12:00:00                                       NaN   \n2018-12-11 12:00:01                                  5.376500   \n2018-12-11 12:00:02                                  5.415528   \n2018-12-11 12:00:03                                       NaN   \n2018-12-11 12:00:04                                  5.376942   \n\n                     VAL_11-PT-92016:Z.X2.Value|interpolation  \\\n2018-12-11 12:00:00                                  5.414738   \n2018-12-11 12:00:01                                  5.381131   \n2018-12-11 12:00:02                                  5.415528   \n2018-12-11 12:00:03                                  5.380993   \n2018-12-11 12:00:04                                  5.414673   \n\n                     VAL_11-PT-92104A:X.Value|interpolation  \\\n2018-12-11 12:00:00                                3.658282   \n2018-12-11 12:00:01                                3.730399   \n2018-12-11 12:00:02                                3.770039   \n2018-12-11 12:00:03                                3.791905   \n2018-12-11 12:00:04                                3.784383   \n\n                     VAL_11-PT-92104B:X.Value|interpolation  \\\n2018-12-11 12:00:00                                3.816749   \n2018-12-11 12:00:01                                3.847567   \n2018-12-11 12:00:02                                3.821886   \n2018-12-11 12:00:03                                3.798750   \n2018-12-11 12:00:04                                3.800858   \n\n                     VAL_11-PT-92117:X.Value|interpolation  \\\n2018-12-11 12:00:00                               4.373624   \n2018-12-11 12:00:01                               4.360992   \n2018-12-11 12:00:02                               4.335399   \n2018-12-11 12:00:03                               4.316654   \n2018-12-11 12:00:04                               4.320174   \n\n                     VAL_11-PT-92118:X.Value|interpolation  \\\n2018-12-11 12:00:00                               4.375025   \n2018-12-11 12:00:01                               4.356205   \n2018-12-11 12:00:02                               4.343245   \n2018-12-11 12:00:03                               4.334860   \n2018-12-11 12:00:04                               4.342933   \n\n                     VAL_11-PT-92123:X.Value|interpolation  \\\n2018-12-11 12:00:00                               3.305656   \n2018-12-11 12:00:01                               3.357783   \n2018-12-11 12:00:02                               3.482970   \n2018-12-11 12:00:03                               3.554961   \n2018-12-11 12:00:04                               3.577485   \n\n                     VAL_11-PT-92126:X.Value|interpolation  \\\n2018-12-11 12:00:00                               3.316679   \n2018-12-11 12:00:01                               3.380073   \n2018-12-11 12:00:02                               3.492331   \n2018-12-11 12:00:03                               3.558477   \n2018-12-11 12:00:04                               3.586276   \n\n                     VAL_11-PT-92130:X.Value|interpolation  \\\n2018-12-11 12:00:00                               4.623961   \n2018-12-11 12:00:01                               4.594423   \n2018-12-11 12:00:02                               4.594720   \n2018-12-11 12:00:03                               4.583262   \n2018-12-11 12:00:04                                    NaN   \n\n                     VAL_11-PT-92207:Z.X1.Value|interpolation  \\\n2018-12-11 12:00:00                                  3.318681   \n2018-12-11 12:00:01                                  3.340687   \n2018-12-11 12:00:02                                  3.363911   \n2018-12-11 12:00:03                                  3.380681   \n2018-12-11 12:00:04                                  3.399006   \n\n                     VAL_11-PT-92207:Z.X2.Value|interpolation  \n2018-12-11 12:00:00                                  3.318681  \n2018-12-11 12:00:01                                  3.340687  \n2018-12-11 12:00:02                                  3.363911  \n2018-12-11 12:00:03                                  3.380681  \n2018-12-11 12:00:04                                  3.399006  \n"
     ],
     "output_type": "stream"
    }
   ],
   "source": [
    "\"\"\"\n",
    "# Retrieve data from CDF using ids\n",
    "df = client.datapoints.retrieve_dataframe(\n",
    "    # id=tags['id'].to_list(),\n",
    "    external_id=tags['CDF_TAG'].to_list(),\n",
    "    start=datetime(2017, 1, 1),\n",
    "    end=datetime(2018, 1, 1),\n",
    "    granularity='1m',\n",
    "    aggregates=['interpolation']\n",
    ")\n",
    "\"\"\"\n",
    "# Retrieve data from CDF using ids\n",
    "df = client.datapoints.retrieve_dataframe(\n",
    "    # id=tags['id'].to_list(),\n",
    "    external_id=tags['CDF_TAG'].to_list(),\n",
    "    start=datetime(2018, 12, 11, 12, 0),\n",
    "    end=datetime(2018, 12, 11, 13, 0),\n",
    "    granularity='1s',\n",
    "    aggregates=['interpolation']\n",
    ")\n",
    "\n",
    "print(df.head())"
   ],
   "metadata": {
    "collapsed": false,
    "pycharm": {
     "name": "#%%\n",
     "is_executing": false
    }
   }
  },
  {
   "cell_type": "code",
   "execution_count": 6,
   "outputs": [
    {
     "name": "stdout",
     "text": [
      "(0, 'VAL_11-PIC-92205C:Z.X.Value')\n(1, 'VAL_11-PT-92002:X.Value')\n(2, 'VAL_11-PT-92006:Z.X1.Value')\n(3, 'VAL_11-PT-92006:Z.X2.Value')\n(4, 'VAL_11-PT-92012:X.Value')\n(5, 'VAL_11-PT-92016:Z.X1.Value')\n(6, 'VAL_11-PT-92016:Z.X2.Value')\n(7, 'VAL_11-PT-92104A:X.Value')\n(8, 'VAL_11-PT-92104B:X.Value')\n(9, 'VAL_11-PT-92117:X.Value')\n(10, 'VAL_11-PT-92118:X.Value')\n(11, 'VAL_11-PT-92123:X.Value')\n(12, 'VAL_11-PT-92126:X.Value')\n(13, 'VAL_11-PT-92130:X.Value')\n(14, 'VAL_11-PT-92207:Z.X1.Value')\n(15, 'VAL_11-PT-92207:Z.X2.Value')\n"
     ],
     "output_type": "stream"
    }
   ],
   "source": [
    "# Rename columns\n",
    "import re\n",
    "df.columns = list(map(lambda x: re.sub('\\|interpolation', '', x), df.columns))\n",
    "print('\\n'.join(map(str, enumerate(df.columns))))\n"
   ],
   "metadata": {
    "collapsed": false,
    "pycharm": {
     "name": "#%%\n",
     "is_executing": false
    }
   }
  },
  {
   "cell_type": "code",
   "execution_count": 7,
   "outputs": [
    {
     "name": "stdout",
     "text": [
      "(3600, 16)\n"
     ],
     "output_type": "stream"
    }
   ],
   "source": [
    "# Info about the dataframe\n",
    "np.min(df.index.to_series().diff())\n",
    "print(df.shape)\n",
    "#pd.DatetimeIndex().difference()\n"
   ],
   "metadata": {
    "collapsed": false,
    "pycharm": {
     "name": "#%%\n",
     "is_executing": false
    }
   }
  },
  {
   "cell_type": "code",
   "execution_count": 10,
   "outputs": [
    {
     "traceback": [
      "\u001b[0;31m---------------------------------------------------------------------------\u001b[0m",
      "\u001b[0;31mValueError\u001b[0m                                Traceback (most recent call last)",
      "\u001b[0;32m<ipython-input-10-ce9412634b72>\u001b[0m in \u001b[0;36m<module>\u001b[0;34m\u001b[0m\n\u001b[1;32m     16\u001b[0m \u001b[0;31m# print(lags)\u001b[0m\u001b[0;34m\u001b[0m\u001b[0;34m\u001b[0m\u001b[0;34m\u001b[0m\u001b[0m\n\u001b[1;32m     17\u001b[0m \u001b[0mcorrelate_to\u001b[0m \u001b[0;34m=\u001b[0m \u001b[0mdf\u001b[0m\u001b[0;34m.\u001b[0m\u001b[0mcolumns\u001b[0m\u001b[0;34m[\u001b[0m\u001b[0;36m4\u001b[0m\u001b[0;34m]\u001b[0m\u001b[0;34m\u001b[0m\u001b[0;34m\u001b[0m\u001b[0m\n\u001b[0;32m---> 18\u001b[0;31m \u001b[0mcorrelations\u001b[0m\u001b[0;34m,\u001b[0m \u001b[0mcross\u001b[0m \u001b[0;34m=\u001b[0m \u001b[0mcognite\u001b[0m\u001b[0;34m.\u001b[0m\u001b[0mcorrelation\u001b[0m\u001b[0;34m.\u001b[0m\u001b[0mcolumns_by_max_cross_correlation\u001b[0m\u001b[0;34m(\u001b[0m\u001b[0mdf\u001b[0m\u001b[0;34m,\u001b[0m \u001b[0mcorrelate_to\u001b[0m\u001b[0;34m,\u001b[0m \u001b[0mlags\u001b[0m\u001b[0;34m,\u001b[0m \u001b[0mreturn_cross_correlation_df\u001b[0m\u001b[0;34m=\u001b[0m\u001b[0;32mTrue\u001b[0m\u001b[0;34m)\u001b[0m\u001b[0;34m\u001b[0m\u001b[0;34m\u001b[0m\u001b[0m\n\u001b[0m\u001b[1;32m     19\u001b[0m \u001b[0mprint\u001b[0m\u001b[0;34m(\u001b[0m\u001b[0mcorrelations\u001b[0m\u001b[0;34m)\u001b[0m\u001b[0;34m\u001b[0m\u001b[0;34m\u001b[0m\u001b[0m\n\u001b[1;32m     20\u001b[0m \u001b[0;34m\u001b[0m\u001b[0m\n",
      "\u001b[0;32m~/Documents/github/correlation/cognite/correlation/correlation.py\u001b[0m in \u001b[0;36mcolumns_by_max_cross_correlation\u001b[0;34m(df, relate_to, lags, return_cross_correlation_df)\u001b[0m\n\u001b[1;32m     70\u001b[0m     \u001b[0mdmin\u001b[0m\u001b[0;34m,\u001b[0m \u001b[0mdmax\u001b[0m \u001b[0;34m=\u001b[0m \u001b[0mdiffs\u001b[0m\u001b[0;34m.\u001b[0m\u001b[0mmin\u001b[0m\u001b[0;34m(\u001b[0m\u001b[0;34m)\u001b[0m\u001b[0;34m,\u001b[0m \u001b[0mdiffs\u001b[0m\u001b[0;34m.\u001b[0m\u001b[0mmax\u001b[0m\u001b[0;34m(\u001b[0m\u001b[0;34m)\u001b[0m\u001b[0;34m\u001b[0m\u001b[0;34m\u001b[0m\u001b[0m\n\u001b[1;32m     71\u001b[0m     \u001b[0;32massert\u001b[0m \u001b[0mdmin\u001b[0m \u001b[0;34m==\u001b[0m \u001b[0mdmax\u001b[0m\u001b[0;34m,\u001b[0m \u001b[0;34m'Time series must be evenly spaced'\u001b[0m\u001b[0;34m\u001b[0m\u001b[0;34m\u001b[0m\u001b[0m\n\u001b[0;32m---> 72\u001b[0;31m     \u001b[0;32massert\u001b[0m \u001b[0mdf\u001b[0m\u001b[0;34m.\u001b[0m\u001b[0misna\u001b[0m\u001b[0;34m(\u001b[0m\u001b[0;34m)\u001b[0m\u001b[0;34m.\u001b[0m\u001b[0msum\u001b[0m\u001b[0;34m(\u001b[0m\u001b[0;34m)\u001b[0m \u001b[0;34m==\u001b[0m \u001b[0;36m0\u001b[0m\u001b[0;34m,\u001b[0m \u001b[0;34m'NaN values must be interpolated before calculating cross-correlation'\u001b[0m\u001b[0;34m\u001b[0m\u001b[0;34m\u001b[0m\u001b[0m\n\u001b[0m\u001b[1;32m     73\u001b[0m \u001b[0;34m\u001b[0m\u001b[0m\n\u001b[1;32m     74\u001b[0m     \u001b[0;31m# Enforce most common time spacing in main column\u001b[0m\u001b[0;34m\u001b[0m\u001b[0;34m\u001b[0m\u001b[0;34m\u001b[0m\u001b[0m\n",
      "\u001b[0;32m~/.conda/envs/correlation-ranking/lib/python3.7/site-packages/pandas/core/generic.py\u001b[0m in \u001b[0;36m__nonzero__\u001b[0;34m(self)\u001b[0m\n\u001b[1;32m   1476\u001b[0m         raise ValueError(\"The truth value of a {0} is ambiguous. \"\n\u001b[1;32m   1477\u001b[0m                          \u001b[0;34m\"Use a.empty, a.bool(), a.item(), a.any() or a.all().\"\u001b[0m\u001b[0;34m\u001b[0m\u001b[0;34m\u001b[0m\u001b[0m\n\u001b[0;32m-> 1478\u001b[0;31m                          .format(self.__class__.__name__))\n\u001b[0m\u001b[1;32m   1479\u001b[0m \u001b[0;34m\u001b[0m\u001b[0m\n\u001b[1;32m   1480\u001b[0m     \u001b[0m__bool__\u001b[0m \u001b[0;34m=\u001b[0m \u001b[0m__nonzero__\u001b[0m\u001b[0;34m\u001b[0m\u001b[0;34m\u001b[0m\u001b[0m\n",
      "\u001b[0;31mValueError\u001b[0m: The truth value of a Series is ambiguous. Use a.empty, a.bool(), a.item(), a.any() or a.all()."
     ],
     "ename": "ValueError",
     "evalue": "The truth value of a Series is ambiguous. Use a.empty, a.bool(), a.item(), a.any() or a.all().",
     "output_type": "error"
    }
   ],
   "source": [
    "\"\"\"\n",
    "import cognite.correlation\n",
    "from datetime import timedelta\n",
    "# Find correlation with optimal lag\n",
    "lags = pd.timedelta_range(start=timedelta(hours=-1), end=timedelta(), periods=60)\n",
    "# print(lags)\n",
    "correlate_to = df.columns[12]\n",
    "correlations = cognite.correlation.columns_by_max_cross_correlation(df, correlate_to, lags)\n",
    "print(correlations)\n",
    "\n",
    "\"\"\"\n",
    "import cognite.correlation\n",
    "from datetime import timedelta\n",
    "# Find correlation with optimal lag\n",
    "lags = pd.timedelta_range(start=timedelta(minutes=-1), end=timedelta(), periods=60)\n",
    "# print(lags)\n",
    "correlate_to = df.columns[4]\n",
    "correlations, cross = cognite.correlation.columns_by_max_cross_correlation(df, correlate_to, lags, return_cross_correlation_df=True)\n",
    "print(correlations)\n"
   ],
   "metadata": {
    "collapsed": false,
    "pycharm": {
     "name": "#%%\n",
     "is_executing": false
    }
   }
  },
  {
   "cell_type": "code",
   "execution_count": 9,
   "outputs": [],
   "source": [
    "import matplotlib.pyplot as plt\n",
    "cross.plot()\n",
    "plt.gcf().set_size_inches((15, 5))\n"
   ],
   "metadata": {
    "collapsed": false,
    "pycharm": {
     "name": "#%%\n",
     "is_executing": false
    }
   }
  }
 ],
 "metadata": {
  "kernelspec": {
   "name": "python3",
   "language": "python",
   "display_name": "Python 3"
  },
  "language_info": {
   "codemirror_mode": {
    "name": "ipython",
    "version": 3
   },
   "file_extension": ".py",
   "mimetype": "text/x-python",
   "name": "python",
   "nbconvert_exporter": "python",
   "pygments_lexer": "ipython3",
   "version": "3.7.3"
  },
  "pycharm": {
   "stem_cell": {
    "cell_type": "raw",
    "source": [],
    "metadata": {
     "collapsed": false
    }
   }
  }
 },
 "nbformat": 4,
 "nbformat_minor": 2
}