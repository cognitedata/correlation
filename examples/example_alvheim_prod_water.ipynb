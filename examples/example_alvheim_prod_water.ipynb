{
 "cells": [
  {
   "cell_type": "code",
   "execution_count": 1,
   "outputs": [],
   "source": [
    "%load_ext autoreload\n",
    "%autoreload 2"
   ],
   "metadata": {
    "collapsed": false,
    "pycharm": {
     "name": "#%%\n",
     "is_executing": false
    }
   }
  },
  {
   "cell_type": "code",
   "execution_count": 2,
   "outputs": [
    {
     "name": "stdout",
     "text": [
      "/Users/marcel/Documents/github/correlation/notebooks\n"
     ],
     "output_type": "stream"
    },
    {
     "name": "stderr",
     "text": [
      "/Users/marcel/.conda/envs/correlation-ranking/lib/python3.7/site-packages/cognite/client/_cognite_client.py:57: UserWarning: You are using version 1.0.0a33 of the SDK, however version 1.0.0a35 is available. Upgrade or set the environment variable 'COGNITE_DISABLE_PYPI_VERSION_CHECK' to suppress this warning.\n  debug=debug,\n/Users/marcel/.conda/envs/correlation-ranking/lib/python3.7/site-packages/ipykernel_launcher.py:12: UserWarning: Authenticated towards inferred project 'akerbp'. Pass project to the CogniteClient constructor or set the environment variable 'COGNITE_PROJECT' to suppress this warning.\n  if sys.path[0] == '':\n"
     ],
     "output_type": "stream"
    }
   ],
   "source": [
    "import sys, os\n",
    "from datetime import datetime, timedelta\n",
    "print(os.getcwd())\n",
    "sys.path.append('../')\n",
    "from cognite.correlation.correlation import columns_by_max_cross_correlation\n",
    "from cognite.client import CogniteClient\n",
    "import pandas as pd\n",
    "import numpy as np\n",
    "import json\n",
    "\n",
    "client = CogniteClient(client_name='test-corr')\n",
    "location = 'hydrocyclones_tags.json'\n",
    "tags_json = json.load(open(location, 'r'))\n"
   ],
   "metadata": {
    "collapsed": false,
    "pycharm": {
     "name": "#%%\n",
     "is_executing": false
    }
   }
  },
  {
   "cell_type": "code",
   "execution_count": 32,
   "outputs": [
    {
     "name": "stdout",
     "text": [
      "(53, 2) \n                                         description  \\\n0                          TURRET_CHOKE/Vilje/TM DS   \n1                            TURRET_CHOKE/BOA/TM US   \n2                         TURRET_CHOKE/Kneler B/PCV   \n3    SEPARATORS/Alvheim Separator/Oil Level (Choke)   \n4  SEPARATORS/Alvheim Separator/Water Level (choke)   \n\n                        CDF_TAG  \n0              16TT0514/Y/1mMID  \n1              16TT0102/Y/1mMID  \n2  16HCV0304/OutPosition/1mSAMP  \n3    20LV0120A/OutPosition/PRIM  \n4    20LV0220B/OutControl/1mMID  \n"
     ],
     "output_type": "stream"
    }
   ],
   "source": [
    "def read_dict_tree(tree):\n",
    "    out = []\n",
    "    for key, subtree in tree.items():\n",
    "        if type(subtree) == dict:\n",
    "            out += map(lambda x: key + '/' + x, read_dict_tree(subtree))\n",
    "        else:\n",
    "            out.append(key + '~' + subtree)\n",
    "    return out\n",
    "tag_list = read_dict_tree(tags_json)\n",
    "tag_list = sorted(list(set(tag_list)))\n",
    "tags = pd.DataFrame({'description': list(map(lambda x: x.split('~')[0], tag_list)),\n",
    "                     'CDF_TAG':     list(map(lambda x: x.split('~')[1], tag_list))})\n",
    "tags.drop_duplicates(subset='CDF_TAG', inplace=True)\n",
    "print(tags.shape, '\\n', tags.head())\n",
    "description_map = {key: val for val, key in (x.split('~') for x in tag_list)}\n"
   ],
   "metadata": {
    "collapsed": false,
    "pycharm": {
     "name": "#%%\n",
     "is_executing": false
    }
   }
  },
  {
   "cell_type": "code",
   "execution_count": 37,
   "outputs": [
    {
     "name": "stdout",
     "text": [
      "                     16TT0514/Y/1mMID|interpolation  \\\n2019-06-30 00:00:00                             NaN   \n2019-06-30 00:00:01                             NaN   \n2019-06-30 00:00:02                             NaN   \n2019-06-30 00:00:03                             NaN   \n2019-06-30 00:00:04                             NaN   \n\n                     16TT0102/Y/1mMID|interpolation  \\\n2019-06-30 00:00:00                       57.129597   \n2019-06-30 00:00:01                             NaN   \n2019-06-30 00:00:02                             NaN   \n2019-06-30 00:00:03                             NaN   \n2019-06-30 00:00:04                             NaN   \n\n                     16HCV0304/OutPosition/1mSAMP|interpolation  \\\n2019-06-30 00:00:00                                         NaN   \n2019-06-30 00:00:01                                         NaN   \n2019-06-30 00:00:02                                         NaN   \n2019-06-30 00:00:03                                         NaN   \n2019-06-30 00:00:04                                         NaN   \n\n                     20LV0120A/OutPosition/PRIM|interpolation  \\\n2019-06-30 00:00:00                                 19.567510   \n2019-06-30 00:00:01                                 19.544295   \n2019-06-30 00:00:02                                 19.522117   \n2019-06-30 00:00:03                                 19.500239   \n2019-06-30 00:00:04                                 19.481012   \n\n                     20LV0220B/OutControl/1mMID|interpolation  \\\n2019-06-30 00:00:00                                 56.814892   \n2019-06-30 00:00:01                                       NaN   \n2019-06-30 00:00:02                                       NaN   \n2019-06-30 00:00:03                                       NaN   \n2019-06-30 00:00:04                                       NaN   \n\n                     16PST0142/MeasA/1mMID|interpolation  \\\n2019-06-30 00:00:00                            21.705866   \n2019-06-30 00:00:01                                  NaN   \n2019-06-30 00:00:02                                  NaN   \n2019-06-30 00:00:03                                  NaN   \n2019-06-30 00:00:04                                  NaN   \n\n                     16PST0440/MeasA/1mMID|interpolation  \\\n2019-06-30 00:00:00                             1.250784   \n2019-06-30 00:00:01                                  NaN   \n2019-06-30 00:00:02                                  NaN   \n2019-06-30 00:00:03                                  NaN   \n2019-06-30 00:00:04                                  NaN   \n\n                    44FT0112A/Y/PRIM|interpolation  \\\n2019-06-30 00:00:00                           None   \n2019-06-30 00:00:01                           None   \n2019-06-30 00:00:02                           None   \n2019-06-30 00:00:03                           None   \n2019-06-30 00:00:04                           None   \n\n                     16HCV0504/OutPosition/1mSAMP|interpolation  \\\n2019-06-30 00:00:00                                         NaN   \n2019-06-30 00:00:01                                         NaN   \n2019-06-30 00:00:02                                         NaN   \n2019-06-30 00:00:03                                         NaN   \n2019-06-30 00:00:04                                         NaN   \n\n                     20PT0113/Y/PRIM|interpolation  ...  \\\n2019-06-30 00:00:00                      16.677607  ...   \n2019-06-30 00:00:01                      16.728050  ...   \n2019-06-30 00:00:02                      16.764631  ...   \n2019-06-30 00:00:03                      16.775692  ...   \n2019-06-30 00:00:04                      16.805896  ...   \n\n                     42LT4402/Y/1mMID|interpolation  \\\n2019-06-30 00:00:00                       79.015694   \n2019-06-30 00:00:01                             NaN   \n2019-06-30 00:00:02                             NaN   \n2019-06-30 00:00:03                             NaN   \n2019-06-30 00:00:04                             NaN   \n\n                     44FT0102A/Y/PRIM|interpolation  \\\n2019-06-30 00:00:00                       74.438954   \n2019-06-30 00:00:01                       74.344177   \n2019-06-30 00:00:02                       74.423969   \n2019-06-30 00:00:03                       74.231283   \n2019-06-30 00:00:04                       74.383304   \n\n                     44FT0112B/Y/PRIM|interpolation  \\\n2019-06-30 00:00:00                            None   \n2019-06-30 00:00:01                            None   \n2019-06-30 00:00:02                            None   \n2019-06-30 00:00:03                            None   \n2019-06-30 00:00:04                            None   \n\n                     16PST0242/MeasA/1mMID|interpolation  \\\n2019-06-30 00:00:00                            23.797913   \n2019-06-30 00:00:01                                  NaN   \n2019-06-30 00:00:02                                  NaN   \n2019-06-30 00:00:03                                  NaN   \n2019-06-30 00:00:04                                  NaN   \n\n                     20FT0226X/Y/PRIM|interpolation  \\\n2019-06-30 00:00:00                      252.961901   \n2019-06-30 00:00:01                             NaN   \n2019-06-30 00:00:02                             NaN   \n2019-06-30 00:00:03                             NaN   \n2019-06-30 00:00:04                             NaN   \n\n                     16HCV0404/OutPosition/1mSAMP|interpolation  \\\n2019-06-30 00:00:00                                    7.682292   \n2019-06-30 00:00:01                                         NaN   \n2019-06-30 00:00:02                                         NaN   \n2019-06-30 00:00:03                                         NaN   \n2019-06-30 00:00:04                                         NaN   \n\n                     44AT0138/Y/1mMID|interpolation  \\\n2019-06-30 00:00:00                       16.804129   \n2019-06-30 00:00:01                             NaN   \n2019-06-30 00:00:02                             NaN   \n2019-06-30 00:00:03                             NaN   \n2019-06-30 00:00:04                             NaN   \n\n                     16PST0140/MeasA/1mMID|interpolation  \\\n2019-06-30 00:00:00                             28.63625   \n2019-06-30 00:00:01                                  NaN   \n2019-06-30 00:00:02                                  NaN   \n2019-06-30 00:00:03                                  NaN   \n2019-06-30 00:00:04                                  NaN   \n\n                     20LT0220B/Y/PRIM|interpolation  \\\n2019-06-30 00:00:00                       36.555094   \n2019-06-30 00:00:01                       36.558010   \n2019-06-30 00:00:02                       36.570456   \n2019-06-30 00:00:03                       36.586855   \n2019-06-30 00:00:04                       36.605605   \n\n                     16PST0342/MeasA/1mMID|interpolation  \n2019-06-30 00:00:00                            20.380363  \n2019-06-30 00:00:01                                  NaN  \n2019-06-30 00:00:02                                  NaN  \n2019-06-30 00:00:03                                  NaN  \n2019-06-30 00:00:04                                  NaN  \n\n[5 rows x 53 columns]\n"
     ],
     "output_type": "stream"
    }
   ],
   "source": [
    "# Retrieve data from CDF using ids\n",
    "df = client.datapoints.retrieve_dataframe(\n",
    "    # id=tags['id'].to_list(),\n",
    "    external_id=tags['CDF_TAG'].to_list(),\n",
    "    start=datetime(2019, 6, 30, 0, 0),\n",
    "    end=datetime(2019, 7, 4, 0, 0),\n",
    "    granularity='1s',\n",
    "    aggregates=['interpolation']\n",
    ")\n",
    "\n",
    "print(df.head())"
   ],
   "metadata": {
    "collapsed": false,
    "pycharm": {
     "name": "#%%\n",
     "is_executing": false
    }
   }
  },
  {
   "cell_type": "code",
   "execution_count": 38,
   "outputs": [],
   "source": [
    "# Rename columns\n",
    "import re\n",
    "df.columns = list(map(lambda x: re.sub('\\|interpolation', '', x), df.columns))\n",
    "df.columns = list(map(lambda x: description_map[x], df.columns))\n"
   ],
   "metadata": {
    "collapsed": false,
    "pycharm": {
     "name": "#%%\n",
     "is_executing": false
    }
   }
  },
  {
   "cell_type": "code",
   "execution_count": 39,
   "outputs": [],
   "source": [
    "# Interpolate data\n",
    "df.interpolate(inplace=True)\n",
    "df.fillna(method='bfill', inplace=True)\n",
    "df.dropna(how='all', axis=1, inplace=True)\n"
   ],
   "metadata": {
    "collapsed": false,
    "pycharm": {
     "name": "#%%\n",
     "is_executing": false
    }
   }
  },
  {
   "cell_type": "code",
   "execution_count": 68,
   "outputs": [
    {
     "name": "stdout",
     "text": [
      "0 days 00:00:01\nShape of df: (345600, 51)\n",
      "NaN count: 0\n(0, 'TURRET_CHOKE/Vilje/TM DS')\n(1, 'TURRET_CHOKE/BOA/TM US')\n(2, 'TURRET_CHOKE/Kneler B/PCV')\n(3, 'SEPARATORS/Alvheim Separator/Oil Level (Choke)')\n(4, 'HYDROCYCLONES/HP Hydrocyclones B/Calculated outlet flow (water)')\n(5, 'TURRET_CHOKE/BOA/PT DS')\n(6, 'TURRET_CHOKE/East Kameleon/PT US')\n(7, 'TURRET_CHOKE/Vilje/PCV')\n(8, 'SEPARATORS/Alvheim Separator/PT')\n(9, 'TURRET_CHOKE/Vilje/PT DS')\n(10, 'TURRET_CHOKE/East Kameleon/TM US')\n(11, 'HYDROCYCLONES/LP Hydrocyclones/dP water')\n(12, 'HYDROCYCLONES/HP Hydrocyclones A/Reject dP control')\n(13, 'CHEMICALS/Scale inhibitor/Level')\n(14, 'HYDROCYCLONES/HP Hydrocyclones A/Inlet flow Alvheim')\n(15, 'SEPARATORS/3rd Party Separator/TM')\n(16, 'SEPARATORS/3rd Party Separator/Oil Level')\n(17, 'SEPARATORS/3rd Party Separator/Water Level (choke)')\n(18, 'SEPARATORS/Alvheim Separator/WiO')\n(19, 'TURRET_CHOKE/Volund/TM US')\n(20, 'TURRET_CHOKE/Kneler B/TM US')\n(21, 'SEPARATORS/Alvheim Separator/TM')\n(22, 'HYDROCYCLONES/LP Hydrocyclones/Reject dP control')\n(23, 'HYDROCYCLONES/HP Hydrocyclones B/Reject dP control')\n(24, 'TURRET_CHOKE/Volund/PCV')\n(25, 'TURRET_CHOKE/Kneler B/PT US')\n(26, 'TURRET_CHOKE/Kneler A + Bøyla/PCV')\n(27, 'TURRET_CHOKE/Volund/PT US')\n(28, 'SEPARATORS/Alvheim Separator/Oil Level')\n(29, 'SEPARATORS/3rd Party Separator/Oil Level (Choke)')\n(30, 'TURRET_CHOKE/Kneler A + Bøyla/TM US')\n(31, 'TURRET_CHOKE/Kneler B/TM DS')\n(32, 'TURRET_CHOKE/Vilje/TM US')\n(33, 'TURRET_CHOKE/BOA/PCV')\n(34, 'TURRET_CHOKE/Kneler A + Bøyla/PT US')\n(35, 'TURRET_CHOKE/Vilje/PT US')\n(36, 'HYDROCYCLONES/LP Hydrocyclones/Inlet Flow 2nd Stage B')\n(37, 'SEPARATORS/3rd Party Separator/PT')\n(38, 'SEPARATORS/3rd Party Separator/WiO')\n(39, 'SEPARATORS/Alvheim Separator/Water Level')\n(40, 'TURRET_CHOKE/Kneler A + Bøyla/TM DS')\n(41, 'TURRET_CHOKE/BOA/TM DS')\n(42, 'CHEMICALS/Demulsifier/Level')\n(43, 'HYDROCYCLONES/LP Hydrocyclones/Inlet Flow 2nd Stage A')\n(44, 'TURRET_CHOKE/Kneler A + Bøyla/PT DS')\n(45, 'HYDROCYCLONES/HP Hydrocyclones A/Inlet Flow 3rd party')\n(46, 'TURRET_CHOKE/East Kameleon/PCV')\n(47, 'WATER_QUALITY/Dump / Injection water/OiW')\n(48, 'TURRET_CHOKE/BOA/PT US')\n(49, 'SEPARATORS/3rd Party Separator/Water Level')\n(50, 'TURRET_CHOKE/Kneler B/PT DS')\n"
     ],
     "output_type": "stream"
    }
   ],
   "source": [
    "# Info about the dataframe\n",
    "print(np.min(df.index.to_series().diff()))\n",
    "print('Shape of df:', df.shape)\n",
    "print('NaN count:', df.isna().sum().sum())\n",
    "print('\\n'.join(map(str, enumerate(df.columns))))\n"
   ],
   "metadata": {
    "collapsed": false,
    "pycharm": {
     "name": "#%%\n",
     "is_executing": false
    }
   }
  },
  {
   "cell_type": "code",
   "execution_count": 67,
   "outputs": [
    {
     "name": "stdout",
     "text": [
      "                                                  col      corr      lag\n0            WATER_QUALITY/Dump / Injection water/OiW  1.000000 00:00:00\n1                  SEPARATORS/3rd Party Separator/WiO  0.154826 00:30:31\n2                         CHEMICALS/Demulsifier/Level  0.113226 00:29:54\n3                     SEPARATORS/Alvheim Separator/PT  0.102315 00:22:53\n4                   SEPARATORS/3rd Party Separator/PT  0.090219 00:41:45\n5                      TURRET_CHOKE/East Kameleon/PCV  0.057581 00:00:00\n6                              TURRET_CHOKE/Vilje/PCV  0.056298 00:00:00\n7   HYDROCYCLONES/LP Hydrocyclones/Inlet Flow 2nd ...  0.039661 00:02:25\n8                    TURRET_CHOKE/East Kameleon/TM US  0.023942 00:00:00\n9                 TURRET_CHOKE/Kneler A + Bøyla/TM DS  0.018952 00:20:41\n10                           TURRET_CHOKE/Vilje/TM US -0.022427 01:00:00\n11                           TURRET_CHOKE/Vilje/TM DS -0.029187 00:48:58\n12                   TURRET_CHOKE/East Kameleon/PT US -0.055071 00:52:59\n13                    CHEMICALS/Scale inhibitor/Level -0.064976 00:00:00\n14                           TURRET_CHOKE/Vilje/PT DS -0.065568 00:20:41\n15   HYDROCYCLONES/LP Hydrocyclones/Reject dP control -0.069639 00:27:42\n16                   SEPARATORS/Alvheim Separator/WiO -0.076291 00:19:28\n17                           TURRET_CHOKE/Vilje/PT US -0.085168 00:38:56\n18           SEPARATORS/Alvheim Separator/Water Level -0.104031 00:17:52\n19             SEPARATORS/Alvheim Separator/Oil Level -0.119806 00:05:26\n20                          TURRET_CHOKE/Volund/PT US -0.153217 00:12:51\n21                        TURRET_CHOKE/Kneler B/PT DS -0.164031 01:00:00\n22     SEPARATORS/Alvheim Separator/Oil Level (Choke) -0.252709 00:06:14\n23                             TURRET_CHOKE/BOA/PT DS -0.252941 01:00:00\n24                TURRET_CHOKE/Kneler A + Bøyla/PT DS -0.289704 00:26:18\n25                TURRET_CHOKE/Kneler A + Bøyla/PT US -0.306227 00:26:18\n26                        TURRET_CHOKE/Kneler B/PT US -0.347065 01:00:00\n27         SEPARATORS/3rd Party Separator/Water Level -0.360784 00:00:00\n28                          TURRET_CHOKE/Volund/TM US -0.367980 00:00:00\n29  HYDROCYCLONES/HP Hydrocyclones A/Inlet Flow 3r... -0.385703 00:26:18\n30   SEPARATORS/3rd Party Separator/Oil Level (Choke) -0.393701 00:00:00\n31                             TURRET_CHOKE/BOA/PT US -0.419524 01:00:00\n32  HYDROCYCLONES/HP Hydrocyclones B/Calculated ou... -0.450090 00:24:41\n33  HYDROCYCLONES/HP Hydrocyclones B/Reject dP con... -0.452125 00:29:54\n34           SEPARATORS/3rd Party Separator/Oil Level -0.457458 00:24:05\n35  HYDROCYCLONES/HP Hydrocyclones A/Reject dP con... -0.461991 00:29:30\n36                        TURRET_CHOKE/Kneler B/TM DS -0.474703 00:17:28\n37                             TURRET_CHOKE/BOA/TM DS -0.476775 00:45:10\n38                        TURRET_CHOKE/Kneler B/TM US -0.478635 00:18:16\n39                             TURRET_CHOKE/BOA/TM US -0.479677 00:45:10\n40  HYDROCYCLONES/HP Hydrocyclones A/Inlet flow Al... -0.494275 00:23:53\n41                    SEPARATORS/Alvheim Separator/TM -0.502095 00:31:31\n42  HYDROCYCLONES/LP Hydrocyclones/Inlet Flow 2nd ... -0.511512 00:27:54\n43            HYDROCYCLONES/LP Hydrocyclones/dP water -0.525050 00:29:42\n44                            TURRET_CHOKE/Volund/PCV -0.542392 00:00:00\n45                  SEPARATORS/3rd Party Separator/TM -0.553293 00:58:24\n46                  TURRET_CHOKE/Kneler A + Bøyla/PCV -0.555861 00:00:00\n47  SEPARATORS/3rd Party Separator/Water Level (ch... -0.560871 00:26:42\n48                TURRET_CHOKE/Kneler A + Bøyla/TM US -0.603640 00:00:00\n49                               TURRET_CHOKE/BOA/PCV -0.624434 00:00:00\n50                          TURRET_CHOKE/Kneler B/PCV -0.624607 00:00:00\n"
     ],
     "output_type": "stream"
    }
   ],
   "source": [
    "import cognite.correlation\n",
    "# Find correlation with optimal lag\n",
    "lags = pd.timedelta_range(start=timedelta(minutes=-60), end=timedelta(), periods=5*60)\n",
    "# print(lags)\n",
    "correlate_to = df.columns[47]\n",
    "correlations, cross = cognite.correlation.columns_by_max_cross_correlation(df, correlate_to, lags, return_cross_correlation_df=True)\n",
    "print(correlations)\n"
   ],
   "metadata": {
    "collapsed": false,
    "pycharm": {
     "name": "#%%\n",
     "is_executing": false
    }
   }
  },
  {
   "cell_type": "code",
   "execution_count": 64,
   "outputs": [
    {
     "data": {
      "text/plain": "<Figure size 432x288 with 1 Axes>",
      "image/png": "[encoded data removed]"
     },
     "metadata": {},
     "output_type": "display_data"
    },
    {
     "data": {
      "text/plain": "<Figure size 432x288 with 1 Axes>",
      "image/png": "[encoded data removed]"
     },
     "metadata": {},
     "output_type": "display_data"
    },
    {
     "data": {
      "text/plain": "<Figure size 432x288 with 1 Axes>",
      "image/png": "[encoded data removed]"
     },
     "metadata": {},
     "output_type": "display_data"
    }
   ],
   "source": [
    "# Plot cross correlation over time\n",
    "import matplotlib.pyplot as plt\n",
    "for colname in correlations['col'][:3]:\n",
    "    cross[colname].plot()\n",
    "    plt.gcf().set_facecolor('white')\n",
    "    plt.show()\n",
    "\n",
    "\n"
   ],
   "metadata": {
    "collapsed": false,
    "pycharm": {
     "name": "#%%\n",
     "is_executing": false
    }
   }
  }
 ],
 "metadata": {
  "language_info": {
   "codemirror_mode": {
    "name": "ipython",
    "version": 2
   },
   "file_extension": ".py",
   "mimetype": "text/x-python",
   "name": "python",
   "nbconvert_exporter": "python",
   "pygments_lexer": "ipython2",
   "version": "2.7.6"
  },
  "kernelspec": {
   "name": "pycharm-d9027b3a",
   "language": "python",
   "display_name": "PyCharm (correlation)"
  },
  "pycharm": {
   "stem_cell": {
    "cell_type": "raw",
    "source": [],
    "metadata": {
     "collapsed": false
    }
   }
  }
 },
 "nbformat": 4,
 "nbformat_minor": 0
}